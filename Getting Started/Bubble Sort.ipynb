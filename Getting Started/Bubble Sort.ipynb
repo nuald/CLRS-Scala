{
 "cells": [
  {
   "cell_type": "markdown",
   "metadata": {},
   "source": [
    "# Bubble Sort"
   ]
  },
  {
   "cell_type": "code",
   "execution_count": 1,
   "metadata": {},
   "outputs": [
    {
     "data": {
      "text/plain": [
       "defined \u001b[32mfunction\u001b[39m \u001b[36mbubbleSort\u001b[39m"
      ]
     },
     "execution_count": 1,
     "metadata": {},
     "output_type": "execute_result"
    }
   ],
   "source": [
    "def bubbleSort[A](a: Array[A])(implicit ord: Ordering[A]): Unit = {\n",
    "  for (i <- 0 to a.length - 2) {\n",
    "    for (j <- a.length - 1 to i + 1 by -1) {\n",
    "      if (ord.lt(a(j), a(j - 1))) {\n",
    "        val t = a(j)\n",
    "        a(j) = a(j - 1)\n",
    "        a(j - 1) = t\n",
    "      }\n",
    "    }\n",
    "  }\n",
    "}"
   ]
  },
  {
   "cell_type": "code",
   "execution_count": 2,
   "metadata": {},
   "outputs": [
    {
     "data": {
      "text/plain": [
       "defined \u001b[32mfunction\u001b[39m \u001b[36mbubbleSorted\u001b[39m"
      ]
     },
     "execution_count": 2,
     "metadata": {},
     "output_type": "execute_result"
    }
   ],
   "source": [
    "def bubbleSorted[A](a: Array[A])(implicit ord: Ordering[A]): Array[A] = {\n",
    "  val ret = a.clone\n",
    "  bubbleSort(ret)(ord)\n",
    "  ret\n",
    "}"
   ]
  },
  {
   "cell_type": "code",
   "execution_count": 3,
   "metadata": {},
   "outputs": [
    {
     "data": {
      "text/plain": [
       "\u001b[36mres2\u001b[39m: \u001b[32mArray\u001b[39m[\u001b[32mInt\u001b[39m] = \u001b[33mArray\u001b[39m(\u001b[32m26\u001b[39m, \u001b[32m31\u001b[39m, \u001b[32m41\u001b[39m, \u001b[32m41\u001b[39m, \u001b[32m58\u001b[39m, \u001b[32m59\u001b[39m)"
      ]
     },
     "execution_count": 3,
     "metadata": {},
     "output_type": "execute_result"
    }
   ],
   "source": [
    "bubbleSorted(Array(31, 41, 59, 26, 41, 58))"
   ]
  },
  {
   "cell_type": "code",
   "execution_count": 4,
   "metadata": {},
   "outputs": [
    {
     "data": {
      "text/plain": [
       "defined \u001b[32mfunction\u001b[39m \u001b[36mdesc\u001b[39m\n",
       "\u001b[36mres3_1\u001b[39m: \u001b[32mArray\u001b[39m[\u001b[32mInt\u001b[39m] = \u001b[33mArray\u001b[39m(\u001b[32m59\u001b[39m, \u001b[32m58\u001b[39m, \u001b[32m41\u001b[39m, \u001b[32m41\u001b[39m, \u001b[32m31\u001b[39m, \u001b[32m26\u001b[39m)"
      ]
     },
     "execution_count": 4,
     "metadata": {},
     "output_type": "execute_result"
    }
   ],
   "source": [
    "def desc[T : Ordering] = implicitly[Ordering[T]].reverse\n",
    "bubbleSorted(Array(31, 41, 59, 26, 41, 58))(desc)"
   ]
  },
  {
   "cell_type": "code",
   "execution_count": null,
   "metadata": {},
   "outputs": [],
   "source": []
  }
 ],
 "metadata": {
  "kernelspec": {
   "display_name": "Scala",
   "language": "scala",
   "name": "scala"
  },
  "language_info": {
   "codemirror_mode": "text/x-scala",
   "file_extension": ".scala",
   "mimetype": "text/x-scala",
   "name": "scala",
   "nbconvert_exporter": "script",
   "version": "2.13.0"
  }
 },
 "nbformat": 4,
 "nbformat_minor": 2
}
