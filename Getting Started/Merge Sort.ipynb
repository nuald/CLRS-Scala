{
 "cells": [
  {
   "cell_type": "markdown",
   "metadata": {},
   "source": [
    "# Merge"
   ]
  },
  {
   "cell_type": "code",
   "execution_count": 1,
   "metadata": {},
   "outputs": [
    {
     "data": {
      "text/plain": [
       "defined \u001b[32mfunction\u001b[39m \u001b[36mmerge\u001b[39m"
      ]
     },
     "execution_count": 1,
     "metadata": {},
     "output_type": "execute_result"
    }
   ],
   "source": [
    "def merge[A](a: Array[A], p: Int, q: Int, r: Int)(implicit ord: Ordering[A]): Unit = {\n",
    "  val lSlice = a.slice(p, q + 1)\n",
    "  val rSlice = a.slice(q + 1, r + 1)\n",
    "  var i = 0\n",
    "  var j = 0\n",
    "  var k = p\n",
    "  while (k < r && i < lSlice.length && j < rSlice.length) {\n",
    "    if (ord.lteq(lSlice(i), rSlice(j))) {\n",
    "      a(k) = lSlice(i)\n",
    "      i += 1\n",
    "    } else {\n",
    "      a(k) = rSlice(j)\n",
    "      j += 1\n",
    "    }\n",
    "    k += 1\n",
    "  }\n",
    "  if (i < lSlice.length) {\n",
    "    Array.copy(lSlice, i, a, k, lSlice.length - i)\n",
    "  } else if (j < rSlice.length)  {\n",
    "    Array.copy(rSlice, j, a, k, rSlice.length - j)\n",
    "  }\n",
    "}"
   ]
  },
  {
   "cell_type": "code",
   "execution_count": 2,
   "metadata": {},
   "outputs": [
    {
     "data": {
      "text/plain": [
       "defined \u001b[32mfunction\u001b[39m \u001b[36mmerged\u001b[39m"
      ]
     },
     "execution_count": 2,
     "metadata": {},
     "output_type": "execute_result"
    }
   ],
   "source": [
    "def merged[A](a: Array[A], p: Int, q: Int, r: Int)(implicit ord: Ordering[A]): Array[A] = {\n",
    "  val ret = a.clone\n",
    "  merge(ret, p, q, r)(ord)\n",
    "  ret\n",
    "}"
   ]
  },
  {
   "cell_type": "code",
   "execution_count": 3,
   "metadata": {},
   "outputs": [
    {
     "data": {
      "text/plain": [
       "\u001b[36mres2\u001b[39m: \u001b[32mArray\u001b[39m[\u001b[32mInt\u001b[39m] = \u001b[33mArray\u001b[39m(\u001b[32m1\u001b[39m, \u001b[32m2\u001b[39m, \u001b[32m3\u001b[39m, \u001b[32m4\u001b[39m, \u001b[32m5\u001b[39m, \u001b[32m6\u001b[39m, \u001b[32m7\u001b[39m, \u001b[32m8\u001b[39m, \u001b[32m1\u001b[39m, \u001b[32m2\u001b[39m, \u001b[32m2\u001b[39m, \u001b[32m3\u001b[39m, \u001b[32m4\u001b[39m, \u001b[32m5\u001b[39m, \u001b[32m6\u001b[39m, \u001b[32m7\u001b[39m, \u001b[32m17\u001b[39m)"
      ]
     },
     "execution_count": 3,
     "metadata": {},
     "output_type": "execute_result"
    }
   ],
   "source": [
    "merged(Array(1, 2, 3, 4, 5, 6, 7, 8, 2, 4, 5, 7, 1, 2, 3, 6, 17), 8, 11, 15)"
   ]
  },
  {
   "cell_type": "markdown",
   "metadata": {},
   "source": [
    "# Merge Sort"
   ]
  },
  {
   "cell_type": "code",
   "execution_count": 4,
   "metadata": {},
   "outputs": [
    {
     "data": {
      "text/plain": [
       "defined \u001b[32mfunction\u001b[39m \u001b[36mmergeSort\u001b[39m"
      ]
     },
     "execution_count": 4,
     "metadata": {},
     "output_type": "execute_result"
    }
   ],
   "source": [
    "def mergeSort[A](a: Array[A], p: Int, r: Int)(implicit ord: Ordering[A]): Unit = {\n",
    "  if (p < r) {\n",
    "    val q = (p + r) >>> 1\n",
    "    mergeSort(a, p, q)\n",
    "    mergeSort(a, q + 1, r)\n",
    "    merge(a, p, q, r)\n",
    "  }\n",
    "}"
   ]
  },
  {
   "cell_type": "code",
   "execution_count": 5,
   "metadata": {},
   "outputs": [
    {
     "data": {
      "text/plain": [
       "defined \u001b[32mfunction\u001b[39m \u001b[36mmergeSorted\u001b[39m"
      ]
     },
     "execution_count": 5,
     "metadata": {},
     "output_type": "execute_result"
    }
   ],
   "source": [
    "def mergeSorted[A](a: Array[A])(implicit ord: Ordering[A]): Array[A] = {\n",
    "  val ret = a.clone\n",
    "  mergeSort(ret, 0, ret.length)(ord)\n",
    "  ret\n",
    "}"
   ]
  },
  {
   "cell_type": "code",
   "execution_count": 6,
   "metadata": {},
   "outputs": [
    {
     "data": {
      "text/plain": [
       "\u001b[36mres5\u001b[39m: \u001b[32mArray\u001b[39m[\u001b[32mInt\u001b[39m] = \u001b[33mArray\u001b[39m(\u001b[32m3\u001b[39m, \u001b[32m9\u001b[39m, \u001b[32m26\u001b[39m, \u001b[32m38\u001b[39m, \u001b[32m41\u001b[39m, \u001b[32m49\u001b[39m, \u001b[32m52\u001b[39m, \u001b[32m57\u001b[39m)"
      ]
     },
     "execution_count": 6,
     "metadata": {},
     "output_type": "execute_result"
    }
   ],
   "source": [
    "mergeSorted(Array(3, 41, 52, 26, 38, 57, 9, 49))"
   ]
  },
  {
   "cell_type": "code",
   "execution_count": 7,
   "metadata": {},
   "outputs": [
    {
     "data": {
      "text/plain": [
       "defined \u001b[32mfunction\u001b[39m \u001b[36mdesc\u001b[39m\n",
       "\u001b[36mres6_1\u001b[39m: \u001b[32mArray\u001b[39m[\u001b[32mInt\u001b[39m] = \u001b[33mArray\u001b[39m(\u001b[32m59\u001b[39m, \u001b[32m58\u001b[39m, \u001b[32m41\u001b[39m, \u001b[32m41\u001b[39m, \u001b[32m31\u001b[39m, \u001b[32m26\u001b[39m)"
      ]
     },
     "execution_count": 7,
     "metadata": {},
     "output_type": "execute_result"
    }
   ],
   "source": [
    "def desc[T : Ordering] = implicitly[Ordering[T]].reverse\n",
    "mergeSorted(Array(31, 41, 59, 26, 41, 58))(desc)"
   ]
  },
  {
   "cell_type": "code",
   "execution_count": null,
   "metadata": {},
   "outputs": [],
   "source": []
  }
 ],
 "metadata": {
  "kernelspec": {
   "display_name": "Scala",
   "language": "scala",
   "name": "scala"
  },
  "language_info": {
   "codemirror_mode": "text/x-scala",
   "file_extension": ".scala",
   "mimetype": "text/x-scala",
   "name": "scala",
   "nbconvert_exporter": "script",
   "version": "2.13.0"
  }
 },
 "nbformat": 4,
 "nbformat_minor": 2
}
