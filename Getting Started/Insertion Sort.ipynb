{
 "cells": [
  {
   "cell_type": "markdown",
   "metadata": {},
   "source": [
    "# Insertion Sort"
   ]
  },
  {
   "cell_type": "code",
   "execution_count": 16,
   "metadata": {},
   "outputs": [
    {
     "data": {
      "text/plain": [
       "defined \u001b[32mfunction\u001b[39m \u001b[36minsertionSort\u001b[39m"
      ]
     },
     "execution_count": 16,
     "metadata": {},
     "output_type": "execute_result"
    }
   ],
   "source": [
    "def insertionSort(list: Array[Int], reverse: Boolean = false): Unit = {\n",
    "    val comparator = if (reverse) {\n",
    "      (x: Int, y: Int) => x < y\n",
    "    } else {\n",
    "      (x: Int, y: Int) => x > y\n",
    "    }\n",
    "\n",
    "    def invariant(len: Int): Boolean =\n",
    "      list.take(len).sliding(2).forall {\n",
    "        case Array(x, y) => x == y || !comparator(x, y)\n",
    "        case _ => true\n",
    "      }\n",
    "\n",
    "    assert(invariant(0))\n",
    "    for {\n",
    "      j <- 1 to list.length - 1\n",
    "    } {\n",
    "      val key = list(j)\n",
    "      var i = j - 1\n",
    "      while (i > -1 && comparator(list(i), key)) {\n",
    "        list(i + 1) = list(i)\n",
    "        i -= 1\n",
    "      }\n",
    "      list(i + 1) = key\n",
    "      assert(invariant(j))\n",
    "    }\n",
    "    assert(invariant(list.length))\n",
    "  }"
   ]
  },
  {
   "cell_type": "code",
   "execution_count": 18,
   "metadata": {},
   "outputs": [
    {
     "data": {
      "text/html": [
       "<div class=\"jp-RenderedText\">\n",
       "<pre><code><span style=\"color: rgb(0, 187, 187)\"><span class=\"ansi-cyan-fg\">a</span></span>: <span style=\"color: rgb(0, 187, 0)\"><span class=\"ansi-green-fg\">Array</span></span>[<span style=\"color: rgb(0, 187, 0)\"><span class=\"ansi-green-fg\">Int</span></span>] = <span style=\"color: yellow\"><span class=\"ansi-yellow-fg\">Array</span></span>(<span style=\"color: rgb(0, 187, 0)\"><span class=\"ansi-green-fg\">31</span></span>, <span style=\"color: rgb(0, 187, 0)\"><span class=\"ansi-green-fg\">41</span></span>, <span style=\"color: rgb(0, 187, 0)\"><span class=\"ansi-green-fg\">59</span></span>, <span style=\"color: rgb(0, 187, 0)\"><span class=\"ansi-green-fg\">26</span></span>, <span style=\"color: rgb(0, 187, 0)\"><span class=\"ansi-green-fg\">41</span></span>, <span style=\"color: rgb(0, 187, 0)\"><span class=\"ansi-green-fg\">58</span></span>)</code></pre>\n",
       "</div>"
      ],
      "text/plain": [
       "\u001b[36ma\u001b[39m: \u001b[32mArray\u001b[39m[\u001b[32mInt\u001b[39m] = \u001b[33mArray\u001b[39m(\u001b[32m31\u001b[39m, \u001b[32m41\u001b[39m, \u001b[32m59\u001b[39m, \u001b[32m26\u001b[39m, \u001b[32m41\u001b[39m, \u001b[32m58\u001b[39m)"
      ]
     },
     "metadata": {},
     "output_type": "display_data"
    }
   ],
   "source": [
    "var a = Array(31, 41, 59, 26, 41, 58)"
   ]
  },
  {
   "cell_type": "code",
   "execution_count": 19,
   "metadata": {},
   "outputs": [],
   "source": [
    "insertionSort(a)"
   ]
  },
  {
   "cell_type": "code",
   "execution_count": 20,
   "metadata": {},
   "outputs": [
    {
     "data": {
      "text/plain": [
       "\u001b[36mres19\u001b[39m: \u001b[32mArray\u001b[39m[\u001b[32mInt\u001b[39m] = \u001b[33mArray\u001b[39m(\u001b[32m26\u001b[39m, \u001b[32m31\u001b[39m, \u001b[32m41\u001b[39m, \u001b[32m41\u001b[39m, \u001b[32m58\u001b[39m, \u001b[32m59\u001b[39m)"
      ]
     },
     "execution_count": 20,
     "metadata": {},
     "output_type": "execute_result"
    }
   ],
   "source": [
    "a"
   ]
  },
  {
   "cell_type": "code",
   "execution_count": null,
   "metadata": {},
   "outputs": [],
   "source": []
  }
 ],
 "metadata": {
  "kernelspec": {
   "display_name": "Scala",
   "language": "scala",
   "name": "scala"
  },
  "language_info": {
   "codemirror_mode": "text/x-scala",
   "file_extension": ".scala",
   "mimetype": "text/x-scala",
   "name": "scala",
   "nbconvert_exporter": "script",
   "version": "2.13.0"
  }
 },
 "nbformat": 4,
 "nbformat_minor": 2
}
