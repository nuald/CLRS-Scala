{
 "cells": [
  {
   "cell_type": "markdown",
   "metadata": {},
   "source": [
    "# Insertion Sort"
   ]
  },
  {
   "cell_type": "code",
   "execution_count": 1,
   "metadata": {},
   "outputs": [
    {
     "data": {
      "text/plain": [
       "\u001b[32mimport \u001b[39m\u001b[36mscala.reflect.ClassTag\u001b[39m"
      ]
     },
     "execution_count": 1,
     "metadata": {},
     "output_type": "execute_result"
    }
   ],
   "source": [
    "import scala.reflect.ClassTag"
   ]
  },
  {
   "cell_type": "code",
   "execution_count": 2,
   "metadata": {},
   "outputs": [
    {
     "data": {
      "text/plain": [
       "defined \u001b[32mfunction\u001b[39m \u001b[36minsertionSort\u001b[39m"
      ]
     },
     "execution_count": 2,
     "metadata": {},
     "output_type": "execute_result"
    }
   ],
   "source": [
    "def insertionSort[A](list: Array[A])(implicit ord: Ordering[A]): Unit = {\n",
    "  for (j <- 1 to list.length - 1) {\n",
    "    val key = list(j)\n",
    "    var i = j - 1\n",
    "    while (i > -1 && ord.gt(list(i), key)) {\n",
    "      list(i + 1) = list(i)\n",
    "      i -= 1\n",
    "    }\n",
    "    list(i + 1) = key\n",
    "  }\n",
    "}"
   ]
  },
  {
   "cell_type": "code",
   "execution_count": 3,
   "metadata": {},
   "outputs": [
    {
     "data": {
      "text/plain": [
       "defined \u001b[32mfunction\u001b[39m \u001b[36minsertionSorted\u001b[39m"
      ]
     },
     "execution_count": 3,
     "metadata": {},
     "output_type": "execute_result"
    }
   ],
   "source": [
    "def insertionSorted[A: ClassTag](a: collection.Seq[A])(implicit ord: Ordering[A]): Array[A] = {\n",
    "  val ret = a.toArray\n",
    "  insertionSort(ret)(ord)\n",
    "  ret\n",
    "}"
   ]
  },
  {
   "cell_type": "code",
   "execution_count": 4,
   "metadata": {},
   "outputs": [
    {
     "data": {
      "text/plain": [
       "\u001b[36mres3\u001b[39m: \u001b[32mArray\u001b[39m[\u001b[32mInt\u001b[39m] = \u001b[33mArray\u001b[39m(\u001b[32m26\u001b[39m, \u001b[32m31\u001b[39m, \u001b[32m41\u001b[39m, \u001b[32m41\u001b[39m, \u001b[32m58\u001b[39m, \u001b[32m59\u001b[39m)"
      ]
     },
     "execution_count": 4,
     "metadata": {},
     "output_type": "execute_result"
    }
   ],
   "source": [
    "insertionSorted(Array(31, 41, 59, 26, 41, 58))"
   ]
  },
  {
   "cell_type": "code",
   "execution_count": 5,
   "metadata": {},
   "outputs": [
    {
     "data": {
      "text/plain": [
       "defined \u001b[32mfunction\u001b[39m \u001b[36mdesc\u001b[39m\n",
       "\u001b[36mres4_1\u001b[39m: \u001b[32mArray\u001b[39m[\u001b[32mInt\u001b[39m] = \u001b[33mArray\u001b[39m(\u001b[32m59\u001b[39m, \u001b[32m58\u001b[39m, \u001b[32m41\u001b[39m, \u001b[32m41\u001b[39m, \u001b[32m31\u001b[39m, \u001b[32m26\u001b[39m)"
      ]
     },
     "execution_count": 5,
     "metadata": {},
     "output_type": "execute_result"
    }
   ],
   "source": [
    "def desc[T : Ordering] = implicitly[Ordering[T]].reverse\n",
    "insertionSorted(Array(31, 41, 59, 26, 41, 58))(implicitly, desc)"
   ]
  },
  {
   "cell_type": "code",
   "execution_count": null,
   "metadata": {},
   "outputs": [],
   "source": []
  }
 ],
 "metadata": {
  "kernelspec": {
   "display_name": "Scala",
   "language": "scala",
   "name": "scala"
  },
  "language_info": {
   "codemirror_mode": "text/x-scala",
   "file_extension": ".scala",
   "mimetype": "text/x-scala",
   "name": "scala",
   "nbconvert_exporter": "script",
   "version": "2.13.0"
  }
 },
 "nbformat": 4,
 "nbformat_minor": 2
}
